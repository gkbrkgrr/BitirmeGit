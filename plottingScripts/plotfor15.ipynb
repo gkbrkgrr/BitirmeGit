{
 "cells": [
  {
   "cell_type": "markdown",
   "id": "96cbe815",
   "metadata": {},
   "source": [
    "# Imports"
   ]
  },
  {
   "cell_type": "code",
   "execution_count": null,
   "id": "50be1433",
   "metadata": {},
   "outputs": [],
   "source": [
    "import sys\n",
    "import os\n",
    "\n",
    "project_root = os.path.abspath(os.path.join(os.getcwd(), \"..\"))\n",
    "if project_root not in sys.path:\n",
    "    sys.path.insert(0, project_root)\n",
    "\n",
    "from functions.mergewrfouts import wrfoutMerger"
   ]
  },
  {
   "cell_type": "code",
   "execution_count": null,
   "id": "30598dd7",
   "metadata": {},
   "outputs": [],
   "source": [
    "import tarfile\n",
    "import xarray as xr\n",
    "from netCDF4 import Dataset"
   ]
  },
  {
   "cell_type": "markdown",
   "id": "4960f177",
   "metadata": {},
   "source": [
    "# Functions"
   ]
  },
  {
   "cell_type": "code",
   "execution_count": 12,
   "id": "58bb7977",
   "metadata": {},
   "outputs": [],
   "source": [
    "def listandread(archive_path, extract_dir): \n",
    "    os.makedirs(extract_dir, exist_ok=True)\n",
    "\n",
    "    with tarfile.open(archive_path, \"r:gz\") as tar:\n",
    "        for member in tar.getmembers():\n",
    "            member.name = member.name.replace(\":\", \"_\")\n",
    "            tar.extract(member, path=extract_dir)\n",
    "\n",
    "    wrfout_files = sorted([\n",
    "        os.path.join(root, file)\n",
    "        for root, dirs, files in os.walk(extract_dir)\n",
    "        for file in files if file.startswith(\"wrfout\")\n",
    "    ])\n",
    "    d01, d02 = wrfoutMerger(wrfout_files)\n",
    "    return d01, d02"
   ]
  },
  {
   "cell_type": "markdown",
   "id": "f0fc967d",
   "metadata": {},
   "source": [
    "# Data Read"
   ]
  },
  {
   "cell_type": "code",
   "execution_count": null,
   "id": "3db21f3b",
   "metadata": {},
   "outputs": [],
   "source": [
    "set01_d01, set01_d02 = listandread(archive_path=r\"D:\\istanbul_wrfouts\\23112024\\SET1\\SET1_wrfouts.tar.gz\", extract_dir=r\"D:\\istanbul_wrfouts\\23112024\\SET1\\temp_extract_dir\")\n",
    "set02_d01, set02_d02 = listandread(archive_path=r\"D:\\istanbul_wrfouts\\23112024\\SET2\\SET2_wrfouts.tar.gz\", extract_dir=r\"D:\\istanbul_wrfouts\\23112024\\SET2\\temp_extract_dir\")\n",
    "set03_d01, set03_d02 = listandread(archive_path=r\"D:\\istanbul_wrfouts\\23112024\\SET3\\SET3_wrfouts.tar.gz\", extract_dir=r\"D:\\istanbul_wrfouts\\23112024\\SET3\\temp_extract_dir\")\n",
    "set04_d01, set04_d02 = listandread(archive_path=r\"D:\\istanbul_wrfouts\\23112024\\SET4\\SET4_wrfouts.tar.gz\", extract_dir=r\"D:\\istanbul_wrfouts\\23112024\\SET4\\temp_extract_dir\")\n",
    "set05_d01, set05_d02 = listandread(archive_path=r\"D:\\istanbul_wrfouts\\23112024\\SET5\\SET5_wrfouts.tar.gz\", extract_dir=r\"D:\\istanbul_wrfouts\\23112024\\SET5\\temp_extract_dir\")\n",
    "set06_d01, set06_d02 = listandread(archive_path=r\"D:\\istanbul_wrfouts\\23112024\\SET6\\SET6_wrfouts.tar.gz\", extract_dir=r\"D:\\istanbul_wrfouts\\23112024\\SET6\\temp_extract_dir\")\n",
    "set07_d01, set07_d02 = listandread(archive_path=r\"D:\\istanbul_wrfouts\\23112024\\SET7\\SET7_wrfouts.tar.gz\", extract_dir=r\"D:\\istanbul_wrfouts\\23112024\\SET7\\temp_extract_dir\")\n",
    "set08_d01, set08_d02 = listandread(archive_path=r\"D:\\istanbul_wrfouts\\23112024\\SET8\\SET8_wrfouts.tar.gz\", extract_dir=r\"D:\\istanbul_wrfouts\\23112024\\SET8\\temp_extract_dir\")\n",
    "set09_d01, set09_d02 = listandread(archive_path=r\"D:\\istanbul_wrfouts\\23112024\\SET9\\SET9_wrfouts.tar.gz\", extract_dir=r\"D:\\istanbul_wrfouts\\23112024\\SET9\\temp_extract_dir\")\n",
    "set10_d01, set10_d02 = listandread(archive_path=r\"D:\\istanbul_wrfouts\\23112024\\SET10\\SET10_wrfouts.tar.gz\", extract_dir=r\"D:\\istanbul_wrfouts\\23112024\\SET10\\temp_extract_dir\")\n",
    "set11_d01, set11_d02 = listandread(archive_path=r\"D:\\istanbul_wrfouts\\23112024\\SET11\\SET11_wrfouts.tar.gz\", extract_dir=r\"D:\\istanbul_wrfouts\\23112024\\SET11\\temp_extract_dir\")\n",
    "set12_d01, set12_d02 = listandread(archive_path=r\"D:\\istanbul_wrfouts\\23112024\\SET12\\SET12_wrfouts.tar.gz\", extract_dir=r\"D:\\istanbul_wrfouts\\23112024\\SET12\\temp_extract_dir\")\n",
    "set13_d01, set13_d02 = listandread(archive_path=r\"D:\\istanbul_wrfouts\\23112024\\SET13\\SET13_wrfouts.tar.gz\", extract_dir=r\"D:\\istanbul_wrfouts\\23112024\\SET13\\temp_extract_dir\")\n",
    "set14_d01, set14_d02 = listandread(archive_path=r\"D:\\istanbul_wrfouts\\23112024\\SET14\\SET14_wrfouts.tar.gz\", extract_dir=r\"D:\\istanbul_wrfouts\\23112024\\SET14\\temp_extract_dir\")\n",
    "set15_d01, set15_d02 = listandread(archive_path=r\"D:\\istanbul_wrfouts\\23112024\\SET15\\SET15_wrfouts.tar.gz\", extract_dir=r\"D:\\istanbul_wrfouts\\23112024\\SET15\\temp_extract_dir\")"
   ]
  }
 ],
 "metadata": {
  "kernelspec": {
   "display_name": "mto",
   "language": "python",
   "name": "mto"
  },
  "language_info": {
   "codemirror_mode": {
    "name": "ipython",
    "version": 3
   },
   "file_extension": ".py",
   "mimetype": "text/x-python",
   "name": "python",
   "nbconvert_exporter": "python",
   "pygments_lexer": "ipython3",
   "version": "3.10.4"
  }
 },
 "nbformat": 4,
 "nbformat_minor": 5
}
