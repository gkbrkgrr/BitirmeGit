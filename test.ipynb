{
 "cells": [
  {
   "cell_type": "code",
   "execution_count": 3,
   "id": "0d9056c8",
   "metadata": {},
   "outputs": [],
   "source": [
    "import tarfile\n",
    "import tempfile\n",
    "import os\n",
    "import xarray as xr\n",
    "from netCDF4 import Dataset\n",
    "from collections import defaultdict\n",
    "from functions.mergewrfouts import wrfoutMerger"
   ]
  },
  {
   "cell_type": "code",
   "execution_count": null,
   "id": "47e32f1f",
   "metadata": {},
   "outputs": [],
   "source": [
    "archive_path = r\"D:\\istanbul_wrfouts\\23112024\\SET1\\SET1_wrfouts.tar.gz\"\n",
    "extract_dir = r\"D:\\istanbul_wrfouts\\23112024\\SET1\\temp_extract_dir\" \n",
    "os.makedirs(extract_dir, exist_ok=True)\n",
    "\n",
    "with tarfile.open(archive_path, \"r:gz\") as tar:\n",
    "    for member in tar.getmembers():\n",
    "        member.name = member.name.replace(\":\", \"_\")\n",
    "        tar.extract(member, path=extract_dir)\n",
    "\n",
    "wrfout_files = sorted([\n",
    "    os.path.join(root, file)\n",
    "    for root, dirs, files in os.walk(extract_dir)\n",
    "    for file in files if file.startswith(\"wrfout\")\n",
    "])"
   ]
  },
  {
   "cell_type": "code",
   "execution_count": 3,
   "id": "f468d798",
   "metadata": {},
   "outputs": [],
   "source": [
    "ds1, ds2 = wrfoutMerger(wrfout_files)"
   ]
  },
  {
   "cell_type": "code",
   "execution_count": 2,
   "id": "9b32db71",
   "metadata": {},
   "outputs": [
    {
     "name": "stdout",
     "output_type": "stream",
     "text": [
      "\n",
      "    Girdi: wrfout dosyalarının listesi. \n",
      "    Çıktı: her domain için ayrı xarray.Dataset (girdi olarak d01 ve d02 wrfoutları aynı listede verildiyse 2 ayrı xarray.Dataset çıktısı verilir) \n",
      "    \n"
     ]
    }
   ],
   "source": [
    "print(wrfoutMerger.__doc__)"
   ]
  }
 ],
 "metadata": {
  "kernelspec": {
   "display_name": "mto",
   "language": "python",
   "name": "mto"
  },
  "language_info": {
   "codemirror_mode": {
    "name": "ipython",
    "version": 3
   },
   "file_extension": ".py",
   "mimetype": "text/x-python",
   "name": "python",
   "nbconvert_exporter": "python",
   "pygments_lexer": "ipython3",
   "version": "3.10.4"
  }
 },
 "nbformat": 4,
 "nbformat_minor": 5
}
